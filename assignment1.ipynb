{
 "cells": [
  {
   "cell_type": "code",
   "execution_count": null,
   "id": "bbe3df7a-df59-42c5-9d04-1965d2612318",
   "metadata": {},
   "outputs": [],
   "source": [
    "#question1\n",
    "s=\"aimnxttechnologies hyderabad\" \n",
    "print(s[0])\n",
    "print(s[-1])"
   ]
  },
  {
   "cell_type": "code",
   "execution_count": 8,
   "id": "239122bf-8c45-4f7c-9c25-4a9b1a371c5d",
   "metadata": {},
   "outputs": [
    {
     "name": "stdout",
     "output_type": "stream",
     "text": [
      "AIMNXTTECHNOLOGIES HYDERABAD\n"
     ]
    }
   ],
   "source": [
    "print(s.swapcase())"
   ]
  },
  {
   "cell_type": "code",
   "execution_count": 11,
   "id": "d9885edb-9089-48ef-9ce9-1ef3d3c24240",
   "metadata": {},
   "outputs": [
    {
     "name": "stdout",
     "output_type": "stream",
     "text": [
      "Hello world\n",
      "Hello World\n",
      "hello python\n"
     ]
    }
   ],
   "source": [
    "#question2\n",
    "s=\"hello world\"\n",
    "print(s.capitalize())\n",
    "print(s.title())\n",
    "print(s.replace(\"world\",\"python\"))"
   ]
  },
  {
   "cell_type": "code",
   "execution_count": 23,
   "id": "0ef9b751-2966-43d6-9840-fa53663e3d41",
   "metadata": {},
   "outputs": [
    {
     "name": "stdout",
     "output_type": "stream",
     "text": [
      "1\n",
      "3\n",
      "1\n",
      "4\n",
      "5\n",
      "4\n"
     ]
    }
   ],
   "source": [
    "#question3\n",
    "s=\"learning datascience in aimnxt\"\n",
    "print(s.count(\"l\"))\n",
    "print(s.count(\"e\"))\n",
    "print(s.count(\"r\"))\n",
    "print(s.count(\"a\"))\n",
    "print(s.count(\"n\")) \n",
    "print(s.count(\"i\"))"
   ]
  },
  {
   "cell_type": "code",
   "execution_count": 120,
   "id": "11a39721-183e-4e28-b379-bfa16810f90b",
   "metadata": {},
   "outputs": [
    {
     "name": "stdout",
     "output_type": "stream",
     "text": [
      "11\n",
      "BDFHJ\n",
      "ABCDE\n",
      "EDCBA\n",
      "DH\n"
     ]
    }
   ],
   "source": [
    "#question4\n",
    "s=\"ABCDEFGHIJK\"\n",
    "print(len(s))\n",
    "print(s[1:11:2])\n",
    "print(s[0:5])\n",
    "print(\"\".join(reversed(s[0:5])))\n",
    "print(s[3:11:4])                 "
   ]
  },
  {
   "cell_type": "code",
   "execution_count": 118,
   "id": "867de0e1-8953-469b-8387-b9655731e68c",
   "metadata": {},
   "outputs": [
    {
     "name": "stdout",
     "output_type": "stream",
     "text": [
      "PyTHon PrACtice\n",
      "PyTHon PrACtice\n",
      "Python Practice\n"
     ]
    }
   ],
   "source": [
    "#question5\n",
    "s=\" PyTHon PrACtice\"\n",
    "print(s.strip())\n",
    "s=s.lstrip()\n",
    "print(s)\n",
    "print(s.title())"
   ]
  },
  {
   "cell_type": "code",
   "execution_count": 37,
   "id": "16885f3d-0b36-4876-9c83-0355f98e5514",
   "metadata": {},
   "outputs": [
    {
     "name": "stdout",
     "output_type": "stream",
     "text": [
      "aimnxt.\n",
      "True\n"
     ]
    }
   ],
   "source": [
    "#question6\n",
    "s=\"aimnxt.\"\n",
    "print(s)\n",
    "print(s.endswith(\".\"))"
   ]
  },
  {
   "cell_type": "code",
   "execution_count": 36,
   "id": "b300d09b-77c5-4217-92ef-9385a95d447a",
   "metadata": {},
   "outputs": [
    {
     "name": "stdout",
     "output_type": "stream",
     "text": [
      "aimnxt?\n",
      "True\n"
     ]
    }
   ],
   "source": [
    "s=\"aimnxt?\"\n",
    "print(s) \n",
    "print(s.endswith(\"?\"))"
   ]
  },
  {
   "cell_type": "code",
   "execution_count": 39,
   "id": "50e7baa2-08ff-404b-a6d3-e079d766e936",
   "metadata": {},
   "outputs": [
    {
     "name": "stdout",
     "output_type": "stream",
     "text": [
      "powerful\n",
      " is powerful and \n"
     ]
    }
   ],
   "source": [
    "#question7\n",
    "s=\"Python is powerful and fast.\"\n",
    "print(s[10:18])\n",
    "print(s[6:23])"
   ]
  },
  {
   "cell_type": "code",
   "execution_count": 61,
   "id": "5c7ecc5f-cc8f-49b4-93e1-f601a50084c4",
   "metadata": {},
   "outputs": [
    {
     "name": "stdout",
     "output_type": "stream",
     "text": [
      "10\n",
      "Hello\n",
      "World\n",
      "Hlool\n"
     ]
    }
   ],
   "source": [
    "#question8\n",
    "s=\"HelloWorld\"\n",
    "print(len(s))\n",
    "print(s[0:5])\n",
    "print(s[-5:])\n",
    "print(s[0:11:2])"
   ]
  },
  {
   "cell_type": "code",
   "execution_count": 66,
   "id": "081d558c-01c3-4bca-ad8d-81836e2d5274",
   "metadata": {},
   "outputs": [
    {
     "name": "stdout",
     "output_type": "stream",
     "text": [
      "cde\n",
      "bdfh\n",
      "jihgfedcba\n"
     ]
    }
   ],
   "source": [
    "#question9\n",
    "s=\"abcdefghij\"\n",
    "print(s[2:5])\n",
    "print(s[1:8:2])\n",
    "print(s[::-1])"
   ]
  },
  {
   "cell_type": "code",
   "execution_count": 8,
   "id": "fdc448fa-af94-4310-b3d3-89be050e3c75",
   "metadata": {},
   "outputs": [
    {
     "name": "stdout",
     "output_type": "stream",
     "text": [
      "7\n",
      "3\n",
      "h\n",
      "gh\n"
     ]
    }
   ],
   "source": [
    "#***\n",
    "#question10\n",
    "v1=\"raghava\"\n",
    "print(len(v1))\n",
    "print(len(v1)//2)\n",
    "print(v1[3])\n",
    "v2=\"raghava\"\n",
    "mid=(len(v2)//2)\n",
    "print(v2[mid-1:mid+1])"
   ]
  },
  {
   "cell_type": "code",
   "execution_count": 27,
   "id": "00590a38-e015-4918-912d-08175cc413e2",
   "metadata": {},
   "outputs": [
    {
     "name": "stdout",
     "output_type": "stream",
     "text": [
      "16\n",
      "Science\n",
      "ScienceIsFun\n",
      "nuFsIecneicSataD\n",
      "FunIsScience\n",
      "FunIsScience\n"
     ]
    }
   ],
   "source": [
    "#question11\n",
    "#pending\n",
    "msg=\"DataScienceIsFun\"\n",
    "print(len(msg))\n",
    "print(msg[4:11])\n",
    "print(msg[-12:])\n",
    "print(msg[::-1])\n",
    "print(msg[-3:]+msg[-5:-3]+msg[4:11])\n",
    "print(msg[13:]+msg[11:13]+msg[4:11])"
   ]
  },
  {
   "cell_type": "code",
   "execution_count": 9,
   "id": "158db76a-67f6-461f-b392-cf77233c1a1e",
   "metadata": {},
   "outputs": [
    {
     "name": "stdout",
     "output_type": "stream",
     "text": [
      "ABCDEXYZ\n"
     ]
    }
   ],
   "source": [
    "#***\n",
    "#question12\n",
    "s=\"ABCDE12345XYZ\"\n",
    "print(''.join(c for c in s if c.isalpha()))"
   ]
  },
  {
   "cell_type": "code",
   "execution_count": 13,
   "id": "9ee4552a-2d3d-45dd-a57c-f86f79a1598a",
   "metadata": {},
   "outputs": [
    {
     "name": "stdout",
     "output_type": "stream",
     "text": [
      "12345\n"
     ]
    }
   ],
   "source": [
    "s=(''.join(c for c in s if c.isdigit()))\n",
    "print(s)"
   ]
  },
  {
   "cell_type": "code",
   "execution_count": 14,
   "id": "bf8bb435-ea34-47b3-a4c7-b770f3e1ccd7",
   "metadata": {},
   "outputs": [
    {
     "name": "stdout",
     "output_type": "stream",
     "text": [
      "54321\n"
     ]
    }
   ],
   "source": [
    "print(s[::-1])"
   ]
  },
  {
   "cell_type": "code",
   "execution_count": 101,
   "id": "30d5887f-a9f4-4858-880d-c1b719bc7ead",
   "metadata": {},
   "outputs": [
    {
     "name": "stdout",
     "output_type": "stream",
     "text": [
      "love programming\n"
     ]
    }
   ],
   "source": [
    "#question13\n",
    "s=\"I love programming in Python\"\n",
    "print(s[2:18])"
   ]
  }
 ],
 "metadata": {
  "kernelspec": {
   "display_name": "Python 3 (ipykernel)",
   "language": "python",
   "name": "python3"
  },
  "language_info": {
   "codemirror_mode": {
    "name": "ipython",
    "version": 3
   },
   "file_extension": ".py",
   "mimetype": "text/x-python",
   "name": "python",
   "nbconvert_exporter": "python",
   "pygments_lexer": "ipython3",
   "version": "3.13.5"
  }
 },
 "nbformat": 4,
 "nbformat_minor": 5
}
